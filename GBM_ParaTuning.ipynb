{
 "cells": [
  {
   "cell_type": "code",
   "execution_count": 1,
   "metadata": {
    "collapsed": false,
    "deletable": true,
    "editable": true
   },
   "outputs": [
    {
     "name": "stderr",
     "output_type": "stream",
     "text": [
      "/Library/Frameworks/Python.framework/Versions/2.7/lib/python2.7/site-packages/sklearn/cross_validation.py:44: DeprecationWarning: This module was deprecated in version 0.18 in favor of the model_selection module into which all the refactored classes and functions are moved. Also note that the interface of the new CV iterators are different from that of this module. This module will be removed in 0.20.\n",
      "  \"This module will be removed in 0.20.\", DeprecationWarning)\n",
      "/Library/Frameworks/Python.framework/Versions/2.7/lib/python2.7/site-packages/sklearn/grid_search.py:43: DeprecationWarning: This module was deprecated in version 0.18 in favor of the model_selection module into which all the refactored classes and functions are moved. This module will be removed in 0.20.\n",
      "  DeprecationWarning)\n"
     ]
    }
   ],
   "source": [
    "import numpy as np\n",
    "import pandas as pd\n",
    "import matplotlib.pyplot as plt\n",
    "import seaborn as sns\n",
    "%matplotlib inline\n",
    "from sklearn import preprocessing, cross_validation, metrics #model_selection, \n",
    "#from CrossValidation import CVScore\n",
    "from sklearn.grid_search import GridSearchCV\n",
    "\n",
    "from sklearn.ensemble import RandomForestRegressor, GradientBoostingRegressor\n",
    "from sklearn.preprocessing import Imputer\n",
    "\n",
    "import xgboost as xgb\n",
    "import datetime\n",
    "from sklearn.metrics import mean_squared_error as mse, make_scorer\n",
    "from sklearn.cross_validation import train_test_split\n",
    "#now = datetime.datetime.now()\n",
    "\n",
    "\n",
    "pd.options.mode.chained_assignment = None  # default='warn'\n",
    "pd.set_option('display.max_columns', 500)\n",
    "\n",
    "#id_test = test.id\n",
    "#multiplier = 0.969\n",
    "\n",
    "def RMSLE_(y_val, y_val_pred):\n",
    "    return np.sqrt(np.mean((np.log(y_val+1)-np.log(y_val_pred+1))**2))\n",
    "RMSLE = make_scorer(RMSLE_, greater_is_better=False) \n",
    "\n",
    "def RMSE_(y_val, y_val_pred):\n",
    "    return np.sqrt(np.mean((y_val-y_val_pred)**2))\n",
    "RMSE = make_scorer(RMSE_, greater_is_better=False)\n",
    "\n",
    "from time import time"
   ]
  },
  {
   "cell_type": "code",
   "execution_count": 2,
   "metadata": {
    "collapsed": false,
    "deletable": true,
    "editable": true
   },
   "outputs": [],
   "source": [
    "X_train = pd.read_csv('./input/train_further_additional_feature_filtered.csv',index_col=0)\n",
    "y_train = pd.read_csv('./input/y_train_further_additional_feature_filtered.csv',index_col=0)['price_doc']\n",
    "X_test = pd.read_csv('./input/test_further_additional_feature_filtered.csv',index_col=0)\n",
    "macro = pd.read_csv('./input/macro.csv', parse_dates=['timestamp'])\n",
    "id_test = pd.read_csv('./input/test.csv').id"
   ]
  },
  {
   "cell_type": "code",
   "execution_count": 3,
   "metadata": {
    "collapsed": false,
    "deletable": true,
    "editable": true
   },
   "outputs": [],
   "source": [
    "imp = Imputer(missing_values=np.nan, strategy='median')\n",
    "imp.fit(pd.concat([X_train,X_test]))\n",
    "X_train = pd.DataFrame(imp.transform(X_train),columns=X_train.columns)\n",
    "X_test = pd.DataFrame(imp.transform(X_test),columns=X_test.columns)"
   ]
  },
  {
   "cell_type": "code",
   "execution_count": 4,
   "metadata": {
    "collapsed": false,
    "deletable": true,
    "editable": true
   },
   "outputs": [],
   "source": [
    "imp = Imputer(missing_values=np.infty, strategy='median')\n",
    "imp.fit(pd.concat([X_train,X_test]))\n",
    "X_train = pd.DataFrame(imp.transform(X_train),columns=X_train.columns)\n",
    "X_test = pd.DataFrame(imp.transform(X_test),columns=X_test.columns)"
   ]
  },
  {
   "cell_type": "code",
   "execution_count": 5,
   "metadata": {
    "collapsed": true,
    "deletable": true,
    "editable": true
   },
   "outputs": [],
   "source": [
    "target = \"price_doc\"\n",
    "predictors = X_train.columns\n",
    "X_train[target]=y_train"
   ]
  },
  {
   "cell_type": "code",
   "execution_count": 6,
   "metadata": {
    "collapsed": true,
    "deletable": true,
    "editable": true
   },
   "outputs": [],
   "source": [
    "def modelfitGBM(alg, dtrain, predictors, target=target, CVMetrics=RMSLE, outputMetrics=RMSLE_,\n",
    "                performCV=True, printFeatureImportance=True, cv_folds=5):\n",
    "    #Fit the algorithm on the data\n",
    "    alg.fit(dtrain[predictors], dtrain[target])\n",
    "        \n",
    "    #Predict training set:\n",
    "    dtrain_predictions = alg.predict(dtrain[predictors])\n",
    "    #dtrain_predprob = alg.predict_proba(dtrain[predictors])[:,1]\n",
    "    \n",
    "    #Perform cross-validation:\n",
    "    if performCV:\n",
    "        cv_score = cross_validation.cross_val_score(alg, dtrain[predictors], \n",
    "                                                    dtrain[ target], cv=cv_folds, scoring=CVMetrics)\n",
    "    \n",
    "    #Print model report:\n",
    "    print \"\\nModel Report\"\n",
    "    #print \"Accuracy : %.4g\" % metrics.accuracy_score(dtrain['Disbursed'].values, dtrain_predictions)\n",
    "    print \"RMSE (Train): %f\" % outputMetrics(dtrain[target], dtrain_predictions)\n",
    "    \n",
    "    if performCV:\n",
    "        print \"CV Score : Mean - %.7g | Std - %.7g | Min - %.7g | Max - %.7g\" % (np.mean(cv_score),np.std(cv_score),np.min(cv_score),np.max(cv_score))\n",
    "        \n",
    "    #Print Feature Importance:\n",
    "    if printFeatureImportance:\n",
    "        feat_imp = pd.Series(alg.feature_importances_, predictors).sort_values(ascending=False)[:50]\n",
    "        feat_imp.plot(kind='bar', title='Feature Importances')\n",
    "        plt.ylabel('Feature Importance Score')\n",
    "        plt.figure(figsize=(20,10))"
   ]
  },
  {
   "cell_type": "code",
   "execution_count": null,
   "metadata": {
    "collapsed": false,
    "deletable": true,
    "editable": true
   },
   "outputs": [],
   "source": [
    "gbm0 = GradientBoostingRegressor(random_state=10)\n",
    "modelfitGBM(gbm0, X_train, predictors, target)"
   ]
  },
  {
   "cell_type": "code",
   "execution_count": 7,
   "metadata": {
    "collapsed": false,
    "deletable": true,
    "editable": true
   },
   "outputs": [
    {
     "data": {
      "text/plain": [
       "([mean: -0.48291, std: 0.04669, params: {'n_estimators': 20},\n",
       "  mean: -0.47337, std: 0.04676, params: {'n_estimators': 30},\n",
       "  mean: -0.46949, std: 0.04748, params: {'n_estimators': 40},\n",
       "  mean: -0.46715, std: 0.04741, params: {'n_estimators': 50},\n",
       "  mean: -0.46560, std: 0.04717, params: {'n_estimators': 60},\n",
       "  mean: -0.46438, std: 0.04682, params: {'n_estimators': 70},\n",
       "  mean: -0.46341, std: 0.04648, params: {'n_estimators': 80}],\n",
       " {'n_estimators': 80},\n",
       " -0.4634088766916293)"
      ]
     },
     "execution_count": 7,
     "metadata": {},
     "output_type": "execute_result"
    }
   ],
   "source": [
    "param_test = {'n_estimators':range(20,81,10)}\n",
    "gsearch = GridSearchCV(estimator = GradientBoostingRegressor(learning_rate=0.1, min_samples_split=500,\n",
    "                        min_samples_leaf=50,max_depth=8,max_features='sqrt',subsample=0.8,random_state=10), \n",
    "param_grid = param_test, scoring=RMSE, n_jobs=-1, cv=5)#iid=False, \n",
    "gsearch.fit(X_train[predictors],np.log(X_train[target]+1))\n",
    "gsearch.grid_scores_, gsearch.best_params_, gsearch.best_score_"
   ]
  },
  {
   "cell_type": "code",
   "execution_count": 14,
   "metadata": {
    "collapsed": false,
    "deletable": true,
    "editable": true
   },
   "outputs": [
    {
     "data": {
      "text/plain": [
       "([mean: -0.47097, std: 0.04616, params: {'n_estimators': 100},\n",
       "  mean: -0.46483, std: 0.04621, params: {'n_estimators': 200},\n",
       "  mean: -0.46254, std: 0.04574, params: {'n_estimators': 300},\n",
       "  mean: -0.46188, std: 0.04584, params: {'n_estimators': 400},\n",
       "  mean: -0.46173, std: 0.04599, params: {'n_estimators': 500},\n",
       "  mean: -0.46174, std: 0.04578, params: {'n_estimators': 600},\n",
       "  mean: -0.46169, std: 0.04554, params: {'n_estimators': 700},\n",
       "  mean: -0.46167, std: 0.04566, params: {'n_estimators': 800},\n",
       "  mean: -0.46176, std: 0.04515, params: {'n_estimators': 900},\n",
       "  mean: -0.46207, std: 0.04488, params: {'n_estimators': 1000}],\n",
       " {'n_estimators': 800},\n",
       " -0.46166784063712796)"
      ]
     },
     "execution_count": 14,
     "metadata": {},
     "output_type": "execute_result"
    }
   ],
   "source": [
    "param_test = {'n_estimators':range(100,1100,100)}\n",
    "gsearch = GridSearchCV(estimator = GradientBoostingRegressor(learning_rate=0.1, min_samples_split=500,\n",
    "                        min_samples_leaf=50,max_features='sqrt',subsample=0.8,random_state=10), \n",
    "param_grid = param_test, scoring=RMSE, n_jobs=-1, cv=5)#iid=False, \n",
    "gsearch.fit(X_train[predictors],np.log(X_train[target]+1))\n",
    "gsearch.grid_scores_, gsearch.best_params_, gsearch.best_score_"
   ]
  },
  {
   "cell_type": "code",
   "execution_count": 7,
   "metadata": {
    "collapsed": true,
    "deletable": true,
    "editable": true
   },
   "outputs": [
    {
     "data": {
      "text/plain": [
       "([mean: -2687767.66795, std: 159144.47282, params: {'min_samples_split': 200, 'max_depth': 5},\n",
       "  mean: -2689357.94551, std: 156801.83718, params: {'min_samples_split': 400, 'max_depth': 5},\n",
       "  mean: -2703497.84767, std: 159537.96242, params: {'min_samples_split': 600, 'max_depth': 5},\n",
       "  mean: -2710556.42870, std: 163910.13816, params: {'min_samples_split': 800, 'max_depth': 5},\n",
       "  mean: -2712975.07565, std: 139220.10524, params: {'min_samples_split': 1000, 'max_depth': 5},\n",
       "  mean: -2670805.50105, std: 157964.62066, params: {'min_samples_split': 200, 'max_depth': 7},\n",
       "  mean: -2679970.03701, std: 144848.92631, params: {'min_samples_split': 400, 'max_depth': 7},\n",
       "  mean: -2708982.99551, std: 153812.20833, params: {'min_samples_split': 600, 'max_depth': 7},\n",
       "  mean: -2712652.65955, std: 142190.75455, params: {'min_samples_split': 800, 'max_depth': 7},\n",
       "  mean: -2711397.19987, std: 153329.68957, params: {'min_samples_split': 1000, 'max_depth': 7},\n",
       "  mean: -2693009.94786, std: 153373.33940, params: {'min_samples_split': 200, 'max_depth': 9},\n",
       "  mean: -2699070.42698, std: 172326.09333, params: {'min_samples_split': 400, 'max_depth': 9},\n",
       "  mean: -2698015.04120, std: 151739.12593, params: {'min_samples_split': 600, 'max_depth': 9},\n",
       "  mean: -2704092.48787, std: 163242.87682, params: {'min_samples_split': 800, 'max_depth': 9},\n",
       "  mean: -2702809.25088, std: 157654.45545, params: {'min_samples_split': 1000, 'max_depth': 9},\n",
       "  mean: -2715098.31377, std: 164329.68428, params: {'min_samples_split': 200, 'max_depth': 11},\n",
       "  mean: -2711916.49496, std: 148321.15973, params: {'min_samples_split': 400, 'max_depth': 11},\n",
       "  mean: -2694065.05645, std: 139762.34876, params: {'min_samples_split': 600, 'max_depth': 11},\n",
       "  mean: -2705851.06658, std: 148412.30687, params: {'min_samples_split': 800, 'max_depth': 11},\n",
       "  mean: -2700803.56951, std: 153893.95720, params: {'min_samples_split': 1000, 'max_depth': 11},\n",
       "  mean: -2729228.12196, std: 154579.13640, params: {'min_samples_split': 200, 'max_depth': 13},\n",
       "  mean: -2722789.27217, std: 148421.63956, params: {'min_samples_split': 400, 'max_depth': 13},\n",
       "  mean: -2712593.29008, std: 150836.52226, params: {'min_samples_split': 600, 'max_depth': 13},\n",
       "  mean: -2719289.86936, std: 160583.75123, params: {'min_samples_split': 800, 'max_depth': 13},\n",
       "  mean: -2729459.10679, std: 155188.29007, params: {'min_samples_split': 1000, 'max_depth': 13},\n",
       "  mean: -2731329.77646, std: 154978.41512, params: {'min_samples_split': 200, 'max_depth': 15},\n",
       "  mean: -2714680.44033, std: 155448.15794, params: {'min_samples_split': 400, 'max_depth': 15},\n",
       "  mean: -2703607.78616, std: 141508.67598, params: {'min_samples_split': 600, 'max_depth': 15},\n",
       "  mean: -2710721.42084, std: 131255.37504, params: {'min_samples_split': 800, 'max_depth': 15},\n",
       "  mean: -2720423.34570, std: 137931.92899, params: {'min_samples_split': 1000, 'max_depth': 15}],\n",
       " {'max_depth': 7, 'min_samples_split': 200},\n",
       " -2670805.501054345)"
      ]
     },
     "execution_count": 7,
     "metadata": {},
     "output_type": "execute_result"
    }
   ],
   "source": [
    "param_test = {'max_depth':range(5,16,2), 'min_samples_split':range(200,1001,200)}\n",
    "gsearch = GridSearchCV(estimator = GradientBoostingRegressor(learning_rate=0.1, n_estimators=500,\n",
    "                        min_samples_leaf=50,max_features='sqrt',subsample=0.8,random_state=10), \n",
    "param_grid = param_test, scoring=RMSE, n_jobs=-1,cv=5)#iid=False, \n",
    "gsearch.fit(X_train[predictors],np.log(X_train[target]+1))\n",
    "gsearch.grid_scores_, gsearch.best_params_, gsearch.best_score_"
   ]
  },
  {
   "cell_type": "code",
   "execution_count": 7,
   "metadata": {
    "collapsed": false,
    "deletable": true,
    "editable": true
   },
   "outputs": [
    {
     "data": {
      "text/plain": [
       "([mean: -0.46086, std: 0.06727, params: {'max_depth': 6, 'min_samples_leaf': 30},\n",
       "  mean: -0.46021, std: 0.06641, params: {'max_depth': 6, 'min_samples_leaf': 40},\n",
       "  mean: -0.46030, std: 0.06694, params: {'max_depth': 6, 'min_samples_leaf': 50},\n",
       "  mean: -0.46117, std: 0.06727, params: {'max_depth': 6, 'min_samples_leaf': 60},\n",
       "  mean: -0.45964, std: 0.06737, params: {'max_depth': 6, 'min_samples_leaf': 70},\n",
       "  mean: -0.46321, std: 0.06751, params: {'max_depth': 7, 'min_samples_leaf': 30},\n",
       "  mean: -0.46293, std: 0.06696, params: {'max_depth': 7, 'min_samples_leaf': 40},\n",
       "  mean: -0.46303, std: 0.06697, params: {'max_depth': 7, 'min_samples_leaf': 50},\n",
       "  mean: -0.46342, std: 0.06626, params: {'max_depth': 7, 'min_samples_leaf': 60},\n",
       "  mean: -0.46331, std: 0.06754, params: {'max_depth': 7, 'min_samples_leaf': 70},\n",
       "  mean: -0.46645, std: 0.06727, params: {'max_depth': 8, 'min_samples_leaf': 30},\n",
       "  mean: -0.46541, std: 0.06729, params: {'max_depth': 8, 'min_samples_leaf': 40},\n",
       "  mean: -0.46558, std: 0.06790, params: {'max_depth': 8, 'min_samples_leaf': 50},\n",
       "  mean: -0.46475, std: 0.06823, params: {'max_depth': 8, 'min_samples_leaf': 60},\n",
       "  mean: -0.46592, std: 0.06651, params: {'max_depth': 8, 'min_samples_leaf': 70}],\n",
       " {'max_depth': 6, 'min_samples_leaf': 70},\n",
       " -0.459640082751645)"
      ]
     },
     "execution_count": 7,
     "metadata": {},
     "output_type": "execute_result"
    }
   ],
   "source": [
    "param_test = {'max_depth':range(6,9,1), 'min_samples_leaf':range(30,71,10)}\n",
    "gsearch = GridSearchCV(estimator = GradientBoostingRegressor(learning_rate=0.1, n_estimators=500,\n",
    "                        min_samples_split=200,max_features='sqrt',subsample=0.8,random_state=10), \n",
    "param_grid = param_test, scoring=RMSE, n_jobs=-1,cv=10)#iid=False, \n",
    "gsearch.fit(X_train[predictors],np.log(X_train[target]+1))\n",
    "gsearch.grid_scores_, gsearch.best_params_, gsearch.best_score_"
   ]
  },
  {
   "cell_type": "code",
   "execution_count": 8,
   "metadata": {
    "collapsed": false,
    "deletable": true,
    "editable": true
   },
   "outputs": [
    {
     "data": {
      "text/plain": [
       "([mean: -0.45964, std: 0.06737, params: {'min_samples_leaf': 70},\n",
       "  mean: -0.46045, std: 0.06616, params: {'min_samples_leaf': 80},\n",
       "  mean: -0.46010, std: 0.06621, params: {'min_samples_leaf': 90}],\n",
       " {'min_samples_leaf': 70},\n",
       " -0.459640082751645)"
      ]
     },
     "execution_count": 8,
     "metadata": {},
     "output_type": "execute_result"
    }
   ],
   "source": [
    "param_test = {'min_samples_leaf':range(70,100,10)}\n",
    "gsearch = GridSearchCV(estimator = GradientBoostingRegressor(learning_rate=0.1, n_estimators=500,\n",
    "                        min_samples_split=200,max_features='sqrt',max_depth=6,subsample=0.8,random_state=10), \n",
    "param_grid = param_test, scoring=RMSE, n_jobs=-1,cv=10)#iid=False, \n",
    "gsearch.fit(X_train[predictors],np.log(X_train[target]+1))\n",
    "gsearch.grid_scores_, gsearch.best_params_, gsearch.best_score_"
   ]
  },
  {
   "cell_type": "code",
   "execution_count": 12,
   "metadata": {
    "collapsed": false,
    "deletable": true,
    "editable": true
   },
   "outputs": [
    {
     "name": "stdout",
     "output_type": "stream",
     "text": [
      "\n",
      "Model Report\n",
      "RMSE (Train): 0.418750\n",
      "CV Score : Mean - -0.4726126 | Std - 0.05417188 | Min - -0.5744144 | Max - -0.4231801\n"
     ]
    },
    {
     "data": {
      "image/png": "[encoded data removed]",
      "text/plain": [
       "<matplotlib.figure.Figure at 0x7f4ae36e5f50>"
      ]
     },
     "metadata": {},
     "output_type": "display_data"
    },
    {
     "data": {
      "text/plain": [
       "<matplotlib.figure.Figure at 0x7f4ae36e5f90>"
      ]
     },
     "metadata": {},
     "output_type": "display_data"
    }
   ],
   "source": [
    "modelfitGBM(gsearch.best_estimator_, X_train, predictors, target, CVMetrics=RMSLE, outputMetrics=RMSLE_)"
   ]
  },
  {
   "cell_type": "code",
   "execution_count": 13,
   "metadata": {
    "collapsed": false,
    "deletable": true,
    "editable": true
   },
   "outputs": [
    {
     "data": {
      "text/plain": [
       "([mean: -0.46219, std: 0.06565, params: {'subsample': 0.6},\n",
       "  mean: -0.46095, std: 0.06612, params: {'subsample': 0.7},\n",
       "  mean: -0.45991, std: 0.06675, params: {'subsample': 0.75},\n",
       "  mean: -0.45964, std: 0.06737, params: {'subsample': 0.8},\n",
       "  mean: -0.45954, std: 0.06685, params: {'subsample': 0.85},\n",
       "  mean: -0.46017, std: 0.06644, params: {'subsample': 0.9}],\n",
       " {'subsample': 0.85},\n",
       " -0.459540464029466)"
      ]
     },
     "execution_count": 13,
     "metadata": {},
     "output_type": "execute_result"
    }
   ],
   "source": [
    "param_test = {'subsample':[0.6,0.7,0.75,0.8,0.85,0.9]}\n",
    "gsearch = GridSearchCV(estimator = GradientBoostingRegressor(learning_rate=0.1, n_estimators=500,min_samples_leaf=70,\n",
    "                        min_samples_split=200,max_features='sqrt',max_depth=6,random_state=10), \n",
    "param_grid = param_test, scoring=RMSE, n_jobs=-1,cv=10)#iid=False, \n",
    "gsearch.fit(X_train[predictors],np.log(X_train[target]+1))\n",
    "gsearch.grid_scores_, gsearch.best_params_, gsearch.best_score_"
   ]
  },
  {
   "cell_type": "code",
   "execution_count": 17,
   "metadata": {
    "collapsed": false,
    "deletable": true,
    "editable": true
   },
   "outputs": [
    {
     "data": {
      "text/plain": [
       "([mean: -0.46044, std: 0.06619, params: {'max_features': 0.10000000000000001},\n",
       "  mean: -0.46180, std: 0.06693, params: {'max_features': 0.20000000000000001},\n",
       "  mean: -0.46140, std: 0.06841, params: {'max_features': 0.30000000000000004},\n",
       "  mean: -0.46152, std: 0.06687, params: {'max_features': 0.40000000000000002},\n",
       "  mean: -0.46100, std: 0.06765, params: {'max_features': 0.5},\n",
       "  mean: -0.46181, std: 0.06795, params: {'max_features': 0.60000000000000009},\n",
       "  mean: -0.46258, std: 0.06724, params: {'max_features': 0.70000000000000007},\n",
       "  mean: -0.46248, std: 0.06762, params: {'max_features': 0.80000000000000004},\n",
       "  mean: -0.46296, std: 0.06718, params: {'max_features': 0.90000000000000002}],\n",
       " {'max_features': 0.10000000000000001},\n",
       " -0.46043537017044384)"
      ]
     },
     "execution_count": 17,
     "metadata": {},
     "output_type": "execute_result"
    }
   ],
   "source": [
    "param_test = {'max_features':1/10.0*np.arange(1,10,1)}\n",
    "gsearch = GridSearchCV(estimator = GradientBoostingRegressor(learning_rate=0.1, n_estimators=500,min_samples_leaf=70,\n",
    "                        min_samples_split=200,subsample=0.85,max_depth=6,random_state=10), \n",
    "param_grid = param_test, scoring=RMSE, n_jobs=-1,cv=10)#iid=False, \n",
    "gsearch.fit(X_train[predictors],np.log(X_train[target]+1))\n",
    "gsearch.grid_scores_, gsearch.best_params_, gsearch.best_score_"
   ]
  },
  {
   "cell_type": "code",
   "execution_count": 25,
   "metadata": {
    "collapsed": false,
    "deletable": true,
    "editable": true
   },
   "outputs": [
    {
     "name": "stdout",
     "output_type": "stream",
     "text": [
      "\n",
      "Model Report\n",
      "RMSE (Train): 0.461263\n",
      "CV Score : Mean - -0.4790051 | Std - 0.05864733 | Min - -0.5906774 | Max - -0.4263736\n"
     ]
    },
    {
     "data": {
      "image/png": "[encoded data removed]",
      "text/plain": [
       "<matplotlib.figure.Figure at 0x10a620b50>"
      ]
     },
     "metadata": {},
     "output_type": "display_data"
    },
    {
     "data": {
      "text/plain": [
       "<matplotlib.figure.Figure at 0x10a717710>"
      ]
     },
     "metadata": {},
     "output_type": "display_data"
    }
   ],
   "source": [
    "GBMreg=GradientBoostingRegressor(learning_rate=0.01, n_estimators=500,min_samples_leaf=70,\n",
    "                        min_samples_split=200, max_features=.1,max_depth=6,subsample=0.85,random_state=10)\n",
    "modelfitGBM(GBMreg, X_train, predictors, target, CVMetrics=RMSLE, outputMetrics=RMSLE_)\n",
    "#GBMreg=GradientBoostingRegressor(learning_rate=0.02, n_estimators=500,min_samples_leaf=70,\n",
    "#min_samples_split=200, max_features=.1,max_depth=6,subsample=0.85,random_state=10), CV Score 0.473594\n",
    "# GBMreg=GradientBoostingRegressor(learning_rate=0.01, n_estimators=500,min_samples_leaf=70,\n",
    "# min_samples_split=200, max_features=.1,max_depth=6,subsample=0.85,random_state=10) CV Score : Mean - -0.4790051 "
   ]
  },
  {
   "cell_type": "code",
   "execution_count": 26,
   "metadata": {
    "collapsed": false,
    "deletable": true,
    "editable": true
   },
   "outputs": [],
   "source": [
    "GBMreg=GradientBoostingRegressor(learning_rate=0.01, n_estimators=500,min_samples_leaf=70,\n",
    "                        min_samples_split=200, max_features='sqrt',max_depth=6,subsample=0.85,random_state=10)\n",
    "GBMreg.fit(X_train[predictors], np.log(y_train+1))\n",
    "y_predict = GBMreg.predict(X_test)\n",
    "y_predict = np.exp(y_predict)-1\n",
    "#y_predict = np.round(y_predict)#np.round(y_predict * 0.99)\n",
    "#output = pd.DataFrame({'id': id_test, 'price_doc': y_predict})"
   ]
  },
  {
   "cell_type": "code",
   "execution_count": 27,
   "metadata": {
    "collapsed": true,
    "deletable": true,
    "editable": true
   },
   "outputs": [],
   "source": [
    "output = pd.DataFrame({'id': id_test, 'price_doc': y_predict})\n",
    "output.to_csv('Jun17_5_GBMTuning_etaPt01_nEst500_minSampLf_70_minSampSplt200_maxFeatSqrt_maxDpt6_subSampPt85_rndSt10.csv', index=False)"
   ]
  },
  {
   "cell_type": "code",
   "execution_count": null,
   "metadata": {
    "collapsed": true,
    "deletable": true,
    "editable": true
   },
   "outputs": [],
   "source": []
  },
  {
   "cell_type": "code",
   "execution_count": null,
   "metadata": {
    "collapsed": true,
    "deletable": true,
    "editable": true
   },
   "outputs": [],
   "source": []
  }
 ],
 "metadata": {
  "anaconda-cloud": {},
  "kernelspec": {
   "display_name": "Python 2",
   "language": "python",
   "name": "python2"
  },
  "language_info": {
   "codemirror_mode": {
    "name": "ipython",
    "version": 2
   },
   "file_extension": ".py",
   "mimetype": "text/x-python",
   "name": "python",
   "nbconvert_exporter": "python",
   "pygments_lexer": "ipython2",
   "version": "2.7.13"
  }
 },
 "nbformat": 4,
 "nbformat_minor": 2
}
