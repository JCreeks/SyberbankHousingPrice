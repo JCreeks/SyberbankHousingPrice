{
 "cells": [
  {
   "cell_type": "code",
   "execution_count": 1,
   "metadata": {
    "collapsed": true,
    "deletable": true,
    "editable": true
   },
   "outputs": [],
   "source": [
    "import os\n",
    "import sys\n",
    "\n",
    "module_path = os.path.abspath(os.path.join('..'))\n",
    "sys.path.append(module_path)\n",
    "\n",
    "import numpy as np\n",
    "import pandas as pd\n",
    "import xgboost as xgb\n",
    "# remove warnings\n",
    "import warnings\n",
    "\n",
    "warnings.filterwarnings('ignore')\n",
    "from sklearn import preprocessing\n",
    "from sklearn.metrics import mean_squared_error\n",
    "\n",
    "# my own module\n",
    "from features import data_utils\n",
    "from readData import readData, data_preprocess"
   ]
  },
  {
   "cell_type": "code",
   "execution_count": 2,
   "metadata": {
    "collapsed": false,
    "deletable": true,
    "editable": true
   },
   "outputs": [],
   "source": [
    "import numpy as np\n",
    "import pandas as pd\n",
    "import datetime\n",
    "from sklearn.cross_validation import KFold\n",
    "from sklearn.cross_validation import train_test_split\n",
    "import time\n",
    "#%matplotlib inline\n",
    "from sklearn import preprocessing\n",
    "from sklearn.preprocessing import Imputer\n",
    "from xgboost import XGBRegressor\n",
    "from sklearn.ensemble import RandomForestRegressor, ExtraTreesRegressor, GradientBoostingRegressor\n",
    "from sklearn.grid_search import GridSearchCV\n",
    "from sklearn.cross_validation import ShuffleSplit\n",
    "from sklearn.metrics import make_scorer, mean_squared_error\n",
    "from sklearn.linear_model import Ridge, LassoCV,LassoLarsCV, ElasticNet\n",
    "from sklearn.kernel_ridge import KernelRidge\n",
    "from sklearn.neighbors import KNeighborsRegressor\n",
    "from sklearn.svm import SVR\n",
    "from scipy.stats import skew\n",
    "\n",
    "def RMSLE_(y_val, y_val_pred):\n",
    "    return np.sqrt(np.mean((np.log(y_val+1)-np.log(y_val_pred+1))**2))\n",
    "RMSLE = make_scorer(RMSLE_, greater_is_better=False) \n",
    "\n",
    "def RMSE_(y_val, y_val_pred):\n",
    "    return np.sqrt(np.mean((y_val-y_val_pred)**2))\n",
    "RMSE = make_scorer(RMSE_, greater_is_better=False)\n",
    "\n",
    "from time import time"
   ]
  },
  {
   "cell_type": "code",
   "execution_count": 3,
   "metadata": {
    "collapsed": false,
    "deletable": true,
    "editable": true
   },
   "outputs": [
    {
     "name": "stdout",
     "output_type": "stream",
     "text": [
      "conbined_data: (36650, 702)\n"
     ]
    }
   ],
   "source": [
    "X_train, X_test, y_train = readData(isLog1p=True)\n",
    "#X_train, X_test = data_preprocess(X_train, X_test)"
   ]
  },
  {
   "cell_type": "code",
   "execution_count": 4,
   "metadata": {
    "collapsed": false,
    "deletable": true,
    "editable": true,
    "scrolled": true
   },
   "outputs": [
    {
     "name": "stdout",
     "output_type": "stream",
     "text": [
      "[0]\ttrain-rmse:14.4028\ttest-rmse:14.4029\n",
      "[50]\ttrain-rmse:1.15811\ttest-rmse:1.16151\n",
      "[100]\ttrain-rmse:0.310493\ttest-rmse:0.335799\n",
      "[150]\ttrain-rmse:0.283384\ttest-rmse:0.320504\n",
      "[200]\ttrain-rmse:0.272601\ttest-rmse:0.319036\n",
      "[250]\ttrain-rmse:0.263476\ttest-rmse:0.318562\n",
      "[300]\ttrain-rmse:0.254741\ttest-rmse:0.318513\n",
      "[350]\ttrain-rmse:0.247279\ttest-rmse:0.318398\n",
      "[400]\ttrain-rmse:0.240182\ttest-rmse:0.318391\n",
      "[450]\ttrain-rmse:0.23361\ttest-rmse:0.318726\n"
     ]
    }
   ],
   "source": [
    "xgb_params = {\n",
    "        'eta': 0.05,\n",
    "        'max_depth': 5,\n",
    "        'subsample': 0.7,\n",
    "        'colsample_bytree': 0.7,\n",
    "        'objective': 'reg:linear',\n",
    "        'eval_metric': 'rmse',\n",
    "        'silent': 1,\n",
    "        'seed':5\n",
    "    }\n",
    "\n",
    "dtrain = xgb.DMatrix(X_train, y_train)\n",
    "dtest = xgb.DMatrix(X_test)\n",
    "\n",
    "cv_output = xgb.cv(xgb_params, dtrain, num_boost_round=2000, early_stopping_rounds=50,\\\n",
    "    verbose_eval=50, show_stdv=False)\n",
    "cv_output[['train-rmse-mean', 'test-rmse-mean']].plot()\n",
    "\n",
    "dtrain = xgb.DMatrix(X_train, y_train)\n",
    "dtest = xgb.DMatrix(X_test)\n",
    "\n",
    "num_boost_rounds = len(cv_output)\n",
    "model = xgb.train(dict(xgb_params, silent=0), dtrain, num_boost_round=num_boost_rounds)\n",
    "\n",
    "#fig, ax = plt.subplots(1, 1, figsize=(8, 13))\n",
    "#xgb.plot_importance(model, max_num_features=50, height=0.5, ax=ax)\n",
    "\n",
    "y_predict = model.predict(dtest)\n",
    "#y_predict = np.exp(y_predict)-1\n",
    "#y_predict = np.round(y_predict)#np.round(y_predict * 0.99)"
   ]
  },
  {
   "cell_type": "code",
   "execution_count": 4,
   "metadata": {
    "collapsed": true,
    "deletable": true,
    "editable": true
   },
   "outputs": [
    {
     "ename": "NameError",
     "evalue": "name 'dtest' is not defined",
     "output_type": "error",
     "traceback": [
      "\u001b[0;31m---------------------------------------------------------------------------\u001b[0m",
      "\u001b[0;31mNameError\u001b[0m                                 Traceback (most recent call last)",
      "\u001b[0;32m<ipython-input-4-18f3aff1eca0>\u001b[0m in \u001b[0;36m<module>\u001b[0;34m()\u001b[0m\n\u001b[1;32m     18\u001b[0m \u001b[0mmodel\u001b[0m \u001b[0;34m=\u001b[0m \u001b[0mXGBRegressor\u001b[0m\u001b[0;34m(\u001b[0m\u001b[0;34m**\u001b[0m\u001b[0mxgb_params\u001b[0m\u001b[0;34m)\u001b[0m\u001b[0;34m\u001b[0m\u001b[0m\n\u001b[1;32m     19\u001b[0m \u001b[0mmodel\u001b[0m\u001b[0;34m.\u001b[0m\u001b[0mfit\u001b[0m\u001b[0;34m(\u001b[0m\u001b[0mtrain\u001b[0m\u001b[0;34m,\u001b[0m \u001b[0my_train\u001b[0m\u001b[0;34m)\u001b[0m\u001b[0;34m\u001b[0m\u001b[0m\n\u001b[0;32m---> 20\u001b[0;31m \u001b[0my_predict\u001b[0m \u001b[0;34m=\u001b[0m \u001b[0mmodel\u001b[0m\u001b[0;34m.\u001b[0m\u001b[0mpredict\u001b[0m\u001b[0;34m(\u001b[0m\u001b[0mdtest\u001b[0m\u001b[0;34m)\u001b[0m\u001b[0;34m\u001b[0m\u001b[0m\n\u001b[0m",
      "\u001b[0;31mNameError\u001b[0m: name 'dtest' is not defined"
     ]
    }
   ],
   "source": [
    "train, test = data_preprocess(X_train, X_test)\n",
    "xgb_params = {'learning_rate': 0.05,\n",
    "              'max_depth': 4,\n",
    "              'subsample': 0.95,\n",
    "              'reg_alpha': 0,\n",
    "              'min_child_weight':4,\n",
    "              'colsample_bytree': 0.95,\n",
    "              'gamma':.4,\n",
    "              'objective': 'reg:linear',\n",
    "              'silent': 1,\n",
    "              #'booster' :'gbtree',\n",
    "              #'tuneLength': 3,\n",
    "              'seed': 5 }\n",
    "#print(len(cv_output)) #309\n",
    "\n",
    "xgb_params['n_estimators']=620 #len(cv_output)\n",
    "\n",
    "model = XGBRegressor(**xgb_params)\n",
    "model.fit(train, y_train)\n",
    "y_predict = model.predict(test)"
   ]
  },
  {
   "cell_type": "code",
   "execution_count": 7,
   "metadata": {
    "collapsed": true,
    "deletable": true,
    "editable": true
   },
   "outputs": [],
   "source": [
    "model = GradientBoostingRegressor(learning_rate=0.02, n_estimators=500,min_samples_leaf=70, \n",
    "                                 min_samples_split=200, max_features='sqrt',max_depth=6,subsample=0.85,\n",
    "                                 random_state=10)\n",
    "model.fit(train, y_train)\n",
    "y_predict = model.predict(test)"
   ]
  },
  {
   "cell_type": "code",
   "execution_count": 11,
   "metadata": {
    "collapsed": false,
    "deletable": true,
    "editable": true
   },
   "outputs": [],
   "source": [
    "et_params = {\n",
    "    'n_jobs': 16,\n",
    "    'n_estimators': 100,\n",
    "    'max_features': 0.5,\n",
    "    'max_depth': 12,\n",
    "    'min_samples_leaf': 2,\n",
    "    'random_state': 10\n",
    "}\n",
    "model = ExtraTreesRegressor(**et_params)\n",
    "#train, test = data_preprocess(X_train, X_test)\n",
    "model.fit(train, y_train)\n",
    "y_predict = model.predict(test)"
   ]
  },
  {
   "cell_type": "code",
   "execution_count": 4,
   "metadata": {
    "collapsed": false,
    "deletable": true,
    "editable": true
   },
   "outputs": [],
   "source": [
    "rf_params = {\n",
    "    'n_jobs': 16,\n",
    "    'n_estimators': 100,\n",
    "    'max_features': 0.2,\n",
    "    'max_depth': 12,\n",
    "    'min_samples_leaf': 2,\n",
    "}\n",
    "model = RandomForestRegressor(**rf_params)\n",
    "train, test = data_preprocess(X_train, X_test)\n",
    "model.fit(train, y_train)\n",
    "y_predict = model.predict(test)"
   ]
  },
  {
   "cell_type": "code",
   "execution_count": 4,
   "metadata": {
    "collapsed": true
   },
   "outputs": [],
   "source": [
    "rd_params = {'alpha': 1}\n",
    "model = Ridge(**rd_params)\n",
    "train, test = data_preprocess(X_train, X_test)\n",
    "model.fit(train, y_train)\n",
    "y_predict = model.predict(test)"
   ]
  },
  {
   "cell_type": "code",
   "execution_count": 5,
   "metadata": {
    "collapsed": true,
    "deletable": true,
    "editable": true
   },
   "outputs": [],
   "source": [
    "y_predict = np.exp(y_predict)-1\n",
    "#y_predict = np.round(y_predict)#np.round(y_predict * 0.99)\n",
    "output = pd.DataFrame({'id': pd.read_csv('../../input/test.csv')['id'], 'price_doc': y_predict})\n",
    "output.to_csv('../result/jun26_5_rd.csv', index=False)"
   ]
  },
  {
   "cell_type": "code",
   "execution_count": null,
   "metadata": {
    "collapsed": true,
    "deletable": true,
    "editable": true
   },
   "outputs": [],
   "source": []
  }
 ],
 "metadata": {
  "kernelspec": {
   "display_name": "Python 2",
   "language": "python",
   "name": "python2"
  },
  "language_info": {
   "codemirror_mode": {
    "name": "ipython",
    "version": 2
   },
   "file_extension": ".py",
   "mimetype": "text/x-python",
   "name": "python",
   "nbconvert_exporter": "python",
   "pygments_lexer": "ipython2",
   "version": "2.7.13"
  }
 },
 "nbformat": 4,
 "nbformat_minor": 2
}
